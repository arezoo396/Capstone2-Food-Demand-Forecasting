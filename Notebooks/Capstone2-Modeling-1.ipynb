{
 "cells": [
  {
   "cell_type": "markdown",
   "id": "a6f7e44f",
   "metadata": {},
   "source": [
    "# Modeling"
   ]
  },
  {
   "cell_type": "markdown",
   "id": "aaeb7dea",
   "metadata": {},
   "source": [
    "In the previous section, dummy features were generated from categorical features, and the numeric features underwent standardization. Additionally, the dataset was divided into training and testing sets to assess the model performance. In this notebook, machine learning models will be built with the aim of predicting the \"Number of Orders\" and evaluating their performance.\n",
    "\n",
    "The following models will be conducted :\n",
    "\n",
    "1-Linear Regression \n",
    "\n",
    "2-Decision Tree \n",
    "\n",
    "3-Random Forest \n",
    "\n",
    "4-XGBoost\n"
   ]
  },
  {
   "cell_type": "markdown",
   "id": "34e3b8d7",
   "metadata": {},
   "source": [
    "## Imports"
   ]
  },
  {
   "cell_type": "code",
   "execution_count": 1,
   "id": "6ccaeb92",
   "metadata": {},
   "outputs": [],
   "source": [
    "#Import pandas\n",
    "import pandas as pd\n",
    "import numpy as np\n",
    "import matplotlib.pyplot as plt\n",
    "import seaborn as sns\n",
    "from sklearn.linear_model import LinearRegression\n",
    "from sklearn.metrics import r2_score,mean_squared_error,mean_absolute_error \n",
    "from sklearn.model_selection import GridSearchCV\n",
    "from sklearn.model_selection import TimeSeriesSplit\n",
    "from sklearn.linear_model import Ridge\n",
    "from sklearn.linear_model import Lasso\n",
    "from sklearn.tree import DecisionTreeRegressor\n",
    "from sklearn.model_selection import RandomizedSearchCV\n",
    "from sklearn.ensemble import RandomForestRegressor\n",
    "from sklearn.ensemble import GradientBoostingRegressor\n",
    "import xgboost as xgb\n",
    "from skopt import BayesSearchCV\n",
    "from skopt.space import Real, Integer, Categorical, Space\n",
    "import time\n",
    "from sklearn.pipeline import Pipeline\n",
    "from sklearn.feature_selection import SelectKBest,f_regression, mutual_info_regression\n",
    "from sklearn.model_selection import cross_validate\n",
    "from sklearn.model_selection import cross_val_score\n",
    "#from sklearn.tree import export_graphviz \n",
    "#from IPython.display import Image\n",
    "#from sklearn.preprocessing import StandardScaler\n",
    "#from sklearn.model_selection import train_test_split\n",
    "#from library.sb_utils import save_file"
   ]
  },
  {
   "cell_type": "markdown",
   "id": "d3597eae",
   "metadata": {},
   "source": [
    "## 2-Load the data\n"
   ]
  },
  {
   "cell_type": "code",
   "execution_count": 2,
   "id": "26a81375",
   "metadata": {},
   "outputs": [],
   "source": [
    "# Load the data contains orders, fulfilment centers, meal info, train, test sets\n",
    "food_orders = pd.read_csv('../Data/food_data_merged.csv')\n",
    "food_orders_c = pd.read_csv('../Data/food_data_merged_c.csv')\n",
    "food_orders_test=pd.read_csv('../Data/food_data_merged_test.csv')\n",
    "X_train=pd.read_csv('../Data/X_train.csv')\n",
    "X_test=pd.read_csv('../Data/X_test.csv')\n",
    "y_train=pd.read_csv('../Data/y_train.csv')\n",
    "y_test=pd.read_csv('../Data/y_test.csv')"
   ]
  },
  {
   "cell_type": "code",
   "execution_count": 3,
   "id": "1558feb4",
   "metadata": {},
   "outputs": [
    {
     "name": "stdout",
     "output_type": "stream",
     "text": [
      "<class 'pandas.core.frame.DataFrame'>\n",
      "RangeIndex: 423727 entries, 0 to 423726\n",
      "Data columns (total 30 columns):\n",
      " #   Column                 Non-Null Count   Dtype  \n",
      "---  ------                 --------------   -----  \n",
      " 0   id                     423727 non-null  int64  \n",
      " 1   week                   423727 non-null  int64  \n",
      " 2   center_id              423727 non-null  int64  \n",
      " 3   meal_id                423727 non-null  int64  \n",
      " 4   checkout_price         423727 non-null  float64\n",
      " 5   base_price             423727 non-null  float64\n",
      " 6   emailer_for_promotion  423727 non-null  int64  \n",
      " 7   homepage_featured      423727 non-null  int64  \n",
      " 8   num_orders             423727 non-null  int64  \n",
      " 9   city_code              423727 non-null  int64  \n",
      " 10  region_code            423727 non-null  int64  \n",
      " 11  op_area                423727 non-null  float64\n",
      " 12  C_TYPE_B               423727 non-null  int64  \n",
      " 13  C_TYPE_C               423727 non-null  int64  \n",
      " 14  C_Biryani              423727 non-null  int64  \n",
      " 15  C_Desert               423727 non-null  int64  \n",
      " 16  C_Extras               423727 non-null  int64  \n",
      " 17  C_Fish                 423727 non-null  int64  \n",
      " 18  C_Other Snacks         423727 non-null  int64  \n",
      " 19  C_Pasta                423727 non-null  int64  \n",
      " 20  C_Pizza                423727 non-null  int64  \n",
      " 21  C_Rice Bowl            423727 non-null  int64  \n",
      " 22  C_Salad                423727 non-null  int64  \n",
      " 23  C_Sandwich             423727 non-null  int64  \n",
      " 24  C_Seafood              423727 non-null  int64  \n",
      " 25  C_Soup                 423727 non-null  int64  \n",
      " 26  C_Starters             423727 non-null  int64  \n",
      " 27  C_Indian               423727 non-null  int64  \n",
      " 28  C_Italian              423727 non-null  int64  \n",
      " 29  C_Thai                 423727 non-null  int64  \n",
      "dtypes: float64(3), int64(27)\n",
      "memory usage: 97.0 MB\n"
     ]
    }
   ],
   "source": [
    "#use the info method to see a summary of the data\n",
    "food_orders_c.info()"
   ]
  },
  {
   "cell_type": "code",
   "execution_count": 4,
   "id": "6f970a4f",
   "metadata": {},
   "outputs": [
    {
     "data": {
      "text/html": [
       "<div>\n",
       "<style scoped>\n",
       "    .dataframe tbody tr th:only-of-type {\n",
       "        vertical-align: middle;\n",
       "    }\n",
       "\n",
       "    .dataframe tbody tr th {\n",
       "        vertical-align: top;\n",
       "    }\n",
       "\n",
       "    .dataframe thead th {\n",
       "        text-align: right;\n",
       "    }\n",
       "</style>\n",
       "<table border=\"1\" class=\"dataframe\">\n",
       "  <thead>\n",
       "    <tr style=\"text-align: right;\">\n",
       "      <th></th>\n",
       "      <th>id</th>\n",
       "      <th>week</th>\n",
       "      <th>center_id</th>\n",
       "      <th>meal_id</th>\n",
       "      <th>checkout_price</th>\n",
       "      <th>base_price</th>\n",
       "      <th>emailer_for_promotion</th>\n",
       "      <th>homepage_featured</th>\n",
       "      <th>num_orders</th>\n",
       "      <th>city_code</th>\n",
       "      <th>...</th>\n",
       "      <th>C_Pizza</th>\n",
       "      <th>C_Rice Bowl</th>\n",
       "      <th>C_Salad</th>\n",
       "      <th>C_Sandwich</th>\n",
       "      <th>C_Seafood</th>\n",
       "      <th>C_Soup</th>\n",
       "      <th>C_Starters</th>\n",
       "      <th>C_Indian</th>\n",
       "      <th>C_Italian</th>\n",
       "      <th>C_Thai</th>\n",
       "    </tr>\n",
       "  </thead>\n",
       "  <tbody>\n",
       "    <tr>\n",
       "      <th>0</th>\n",
       "      <td>1379560</td>\n",
       "      <td>1</td>\n",
       "      <td>55</td>\n",
       "      <td>1885</td>\n",
       "      <td>136.83</td>\n",
       "      <td>152.29</td>\n",
       "      <td>0</td>\n",
       "      <td>0</td>\n",
       "      <td>177</td>\n",
       "      <td>647</td>\n",
       "      <td>...</td>\n",
       "      <td>0</td>\n",
       "      <td>0</td>\n",
       "      <td>0</td>\n",
       "      <td>0</td>\n",
       "      <td>0</td>\n",
       "      <td>0</td>\n",
       "      <td>0</td>\n",
       "      <td>0</td>\n",
       "      <td>0</td>\n",
       "      <td>1</td>\n",
       "    </tr>\n",
       "    <tr>\n",
       "      <th>1</th>\n",
       "      <td>1018704</td>\n",
       "      <td>2</td>\n",
       "      <td>55</td>\n",
       "      <td>1885</td>\n",
       "      <td>135.83</td>\n",
       "      <td>152.29</td>\n",
       "      <td>0</td>\n",
       "      <td>0</td>\n",
       "      <td>323</td>\n",
       "      <td>647</td>\n",
       "      <td>...</td>\n",
       "      <td>0</td>\n",
       "      <td>0</td>\n",
       "      <td>0</td>\n",
       "      <td>0</td>\n",
       "      <td>0</td>\n",
       "      <td>0</td>\n",
       "      <td>0</td>\n",
       "      <td>0</td>\n",
       "      <td>0</td>\n",
       "      <td>1</td>\n",
       "    </tr>\n",
       "    <tr>\n",
       "      <th>2</th>\n",
       "      <td>1196273</td>\n",
       "      <td>3</td>\n",
       "      <td>55</td>\n",
       "      <td>1885</td>\n",
       "      <td>132.92</td>\n",
       "      <td>133.92</td>\n",
       "      <td>0</td>\n",
       "      <td>0</td>\n",
       "      <td>96</td>\n",
       "      <td>647</td>\n",
       "      <td>...</td>\n",
       "      <td>0</td>\n",
       "      <td>0</td>\n",
       "      <td>0</td>\n",
       "      <td>0</td>\n",
       "      <td>0</td>\n",
       "      <td>0</td>\n",
       "      <td>0</td>\n",
       "      <td>0</td>\n",
       "      <td>0</td>\n",
       "      <td>1</td>\n",
       "    </tr>\n",
       "    <tr>\n",
       "      <th>3</th>\n",
       "      <td>1116527</td>\n",
       "      <td>4</td>\n",
       "      <td>55</td>\n",
       "      <td>1885</td>\n",
       "      <td>135.86</td>\n",
       "      <td>134.86</td>\n",
       "      <td>0</td>\n",
       "      <td>0</td>\n",
       "      <td>163</td>\n",
       "      <td>647</td>\n",
       "      <td>...</td>\n",
       "      <td>0</td>\n",
       "      <td>0</td>\n",
       "      <td>0</td>\n",
       "      <td>0</td>\n",
       "      <td>0</td>\n",
       "      <td>0</td>\n",
       "      <td>0</td>\n",
       "      <td>0</td>\n",
       "      <td>0</td>\n",
       "      <td>1</td>\n",
       "    </tr>\n",
       "    <tr>\n",
       "      <th>4</th>\n",
       "      <td>1343872</td>\n",
       "      <td>5</td>\n",
       "      <td>55</td>\n",
       "      <td>1885</td>\n",
       "      <td>146.50</td>\n",
       "      <td>147.50</td>\n",
       "      <td>0</td>\n",
       "      <td>0</td>\n",
       "      <td>215</td>\n",
       "      <td>647</td>\n",
       "      <td>...</td>\n",
       "      <td>0</td>\n",
       "      <td>0</td>\n",
       "      <td>0</td>\n",
       "      <td>0</td>\n",
       "      <td>0</td>\n",
       "      <td>0</td>\n",
       "      <td>0</td>\n",
       "      <td>0</td>\n",
       "      <td>0</td>\n",
       "      <td>1</td>\n",
       "    </tr>\n",
       "  </tbody>\n",
       "</table>\n",
       "<p>5 rows × 30 columns</p>\n",
       "</div>"
      ],
      "text/plain": [
       "        id  week  center_id  meal_id  checkout_price  base_price  \\\n",
       "0  1379560     1         55     1885          136.83      152.29   \n",
       "1  1018704     2         55     1885          135.83      152.29   \n",
       "2  1196273     3         55     1885          132.92      133.92   \n",
       "3  1116527     4         55     1885          135.86      134.86   \n",
       "4  1343872     5         55     1885          146.50      147.50   \n",
       "\n",
       "   emailer_for_promotion  homepage_featured  num_orders  city_code  ...  \\\n",
       "0                      0                  0         177        647  ...   \n",
       "1                      0                  0         323        647  ...   \n",
       "2                      0                  0          96        647  ...   \n",
       "3                      0                  0         163        647  ...   \n",
       "4                      0                  0         215        647  ...   \n",
       "\n",
       "   C_Pizza  C_Rice Bowl  C_Salad  C_Sandwich  C_Seafood  C_Soup  C_Starters  \\\n",
       "0        0            0        0           0          0       0           0   \n",
       "1        0            0        0           0          0       0           0   \n",
       "2        0            0        0           0          0       0           0   \n",
       "3        0            0        0           0          0       0           0   \n",
       "4        0            0        0           0          0       0           0   \n",
       "\n",
       "   C_Indian  C_Italian  C_Thai  \n",
       "0         0          0       1  \n",
       "1         0          0       1  \n",
       "2         0          0       1  \n",
       "3         0          0       1  \n",
       "4         0          0       1  \n",
       "\n",
       "[5 rows x 30 columns]"
      ]
     },
     "execution_count": 4,
     "metadata": {},
     "output_type": "execute_result"
    }
   ],
   "source": [
    "#use the head method to see the first several rows of the data\n",
    "food_orders_c.head()"
   ]
  },
  {
   "cell_type": "markdown",
   "id": "130ca8e4",
   "metadata": {},
   "source": [
    "## 1-Linear Regression"
   ]
  },
  {
   "cell_type": "markdown",
   "id": "104e4c08",
   "metadata": {},
   "source": [
    "We begin with the linear regression model.\n",
    "- Linear regression is a simple and interpretable model that can provide baseline performance.\n",
    "- It assumes a linear relationship between the features and the target variable, which may not always hold true, but it's a good starting point for modeling.\n",
    "- It can provide insights into the importance of each feature through its coefficients."
   ]
  },
  {
   "cell_type": "code",
   "execution_count": 5,
   "id": "4c377ae6-9a90-48d6-95bb-fa99bb7fd991",
   "metadata": {},
   "outputs": [],
   "source": [
    "# Function to print the performance of the model (MSE, MAE, and R2), and computation time\n",
    "\n",
    "def results(y_test,y_pred):\n",
    "\n",
    "#Print the performance of the model- Mean squared error,Mean absolute error, R-squared (MSE, MAE, and R2), and computation time\n",
    "    print(\"Mean Squared Error:\", mean_squared_error(y_test, y_pred))\n",
    "    print(\"Mean Absolute Error:\", mean_absolute_error(y_test, y_pred))\n",
    "    print(\"R2 score: \", r2_score(y_test,y_pred))\n",
    "    print('computation time: %.2f' % duration)"
   ]
  },
  {
   "cell_type": "code",
   "execution_count": 15,
   "id": "adb2ca81-946a-43c7-a7b7-7f171aa8398c",
   "metadata": {},
   "outputs": [
    {
     "name": "stdout",
     "output_type": "stream",
     "text": [
      "Mean Squared Error: 98128.27993332643\n",
      "Mean Absolute Error: 164.82884750415218\n",
      "R2 score:  0.4083062052124192\n",
      "computation time: 0.90\n"
     ]
    }
   ],
   "source": [
    "# Initialize the linear regression regressor \n",
    "lr=LinearRegression()\n",
    "\n",
    "#Trian the model on the the training data\n",
    "start_time = time.time()\n",
    "lr.fit(X_train,y_train)\n",
    "duration = time.time() - start_time\n",
    "\n",
    "#Make predictions on the testing data\n",
    "y_pred=lr.predict(X_test)\n",
    "results(y_test,y_pred)"
   ]
  },
  {
   "cell_type": "markdown",
   "id": "3615da3c-406c-4d48-96df-c9de000ecfc7",
   "metadata": {},
   "source": [
    "#### Variable importance\n",
    "\n",
    "We aim to conduct a feature importance analysis by examining the coefficient values assigned to each feature in the model."
   ]
  },
  {
   "cell_type": "code",
   "execution_count": 16,
   "id": "ce6839fc-d690-47be-9ad9-2aff4eaf8769",
   "metadata": {},
   "outputs": [
    {
     "data": {
      "image/png": "[encoded data removed]",
      "text/plain": [
       "<Figure size 720x576 with 1 Axes>"
      ]
     },
     "metadata": {
      "needs_background": "light"
     },
     "output_type": "display_data"
    }
   ],
   "source": [
    "#Get the coefficients (feature importnace) of the linear regression model\n",
    "coefficients=lr.coef_\n",
    "\n",
    "#Plot the feature importance\n",
    "columns=X_train.columns\n",
    "plt.figure(figsize=(10,8))\n",
    "plt.barh(columns, coefficients[0])\n",
    "plt.xlabel('Features')\n",
    "plt.ylabel('Importance')\n",
    "plt.title('Feature Importance from Random Forest')\n",
    "plt.xticks(rotation=45)\n",
    "plt.show()"
   ]
  },
  {
   "cell_type": "markdown",
   "id": "ac67f3e9-067f-428e-b33d-5a60303cde2e",
   "metadata": {},
   "source": [
    "The coefficients represent the impact of each feature on the target variable. For instance,\n",
    "- checkout_price:indicating a significant negative impact of the checkout price on number of orders. \n",
    "- emailer_for_promotion and homepage_featured: indicating a substantial positive impact of them on number of ordedrs.\n",
    "- op_area: suggesting a moderate positive impact of the operating area on numnber of orders.\n",
    "- C_TYPE_B, C_Biryani, ... C_Thai: These are categorical variables representing different types of cuisine, meal categories, or center types. The coefficients for these variables represent their impact relative to the reference category. Positive coefficients indicate a positive impact on the number of orders relative to the reference category, while negative coefficients indicate a negative impact.\n",
    "\n",
    "Overall, the magnitude of the coefficient indicates the strength of the impact, with larger coefficients having a more significant effect on the target variable. Features with positive coefficients contribute positively to the target, while those with negative coefficients have a negative impact. "
   ]
  },
  {
   "cell_type": "markdown",
   "id": "f8437089-40c9-4f94-bd58-3870c4e45d7d",
   "metadata": {},
   "source": [
    "#### Define a new linear regression model with selected K best number of features "
   ]
  },
  {
   "cell_type": "markdown",
   "id": "534ca846-7fac-44be-a1ce-7449365ce5c0",
   "metadata": {},
   "source": [
    "Using all the features in the model may result in ovefitting. A subset of features can generalize the model better. \n",
    "- Feature selection involves choosing a subset of relevant features from the original set of features to improve model performance, reduce overfitting, and decrease computational complexity.\n",
    "- When dealing with datasets with a large number of features, it's common for many features to be irrelevant or redundant. Removing irrelevant features reduces the dimensionality of the data, which can improve model performance and speed up training.\n",
    "- Selecting the most informative features can lead to better model performance by focusing on the most relevant information for prediction. This can result in simpler and more interpretable models.\n",
    "- Selecting a smaller subset of features makes the model more interpretable, as it's easier to understand the relationships between a smaller number of variables.\n",
    "- Overall, feature selection is a useful method for selecting the most informative features from a dataset, leading to improved model performance, interpretability, and computational efficiency."
   ]
  },
  {
   "cell_type": "code",
   "execution_count": 100,
   "id": "309d6568-96f2-4ceb-924a-1635bdbf0ace",
   "metadata": {},
   "outputs": [
    {
     "name": "stdout",
     "output_type": "stream",
     "text": [
      "Mean Squared Error: 106768.90485123357\n",
      "Mean Absolute Error: 178.98176207396642\n",
      "R2 score:  0.356204974553058\n",
      "computation time: 0.50\n"
     ]
    }
   ],
   "source": [
    "# Create a pipeline with feature selection and linear regression\n",
    "pipe = Pipeline([\n",
    "    ('selector', SelectKBest(score_func=f_regression)),\n",
    "    ('regression', LinearRegression())])\n",
    "\n",
    "#train the model on the training data\n",
    "start_time = time.time()\n",
    "pipe.fit(X_train, y_train.values.ravel())\n",
    "duration = time.time() - start_time\n",
    "\n",
    "# Make predictions on the test set\n",
    "y_pred=pipe.predict(X_test)\n",
    "\n",
    "# Print the mean squared/absolute error and R2 for the best model\n",
    "results(y_test,y_pred)"
   ]
  },
  {
   "cell_type": "markdown",
   "id": "534af669-22c0-4f2a-8ebb-ce3f3fa7f29f",
   "metadata": {},
   "source": [
    "The results show the model's performance slightly declined compared to the linear regression model. \n",
    "- When selecting a subset of features, discarding important features during this process can lead to a loss of valuable information, resulting in poorer model performance.\n",
    "- The choice of scoring function and the value of k (number of features to select- defaulting to k=10)  may not be optimal for the dataset. If the selected features are not truly informative or relevant for predicting the target variable, it can negatively impact model performance.\n",
    "- The dataset itself may not be well-suited for feature selection. In some cases, all features may be important for predicting the target variable, and removing any of them could lead to a decrease in model performance."
   ]
  },
  {
   "cell_type": "markdown",
   "id": "f12c3e3b-c11a-452f-93ba-41f62e109a09",
   "metadata": {},
   "source": [
    "To address these issues, we can try the following:\n",
    "\n",
    "- Experiment with different scoring functions to see if they lead to better results.\n",
    "- Fine-tune hyperparameters of both the feature selection step and the linear regression model using techniques like grid search or randomized search.\n",
    "- Consider using more advanced modeling techniques that can automatically learn feature importance, such as regularized regression methods or tree-based models like decision trees or random forests."
   ]
  },
  {
   "cell_type": "markdown",
   "id": "54c03c53-5cc9-4db2-a248-d0f77bc02d89",
   "metadata": {},
   "source": [
    "Now, we'll experiment with mutual_info_regression as our chosen scoring function."
   ]
  },
  {
   "cell_type": "code",
   "execution_count": 101,
   "id": "4cbc4261-f3ae-4d4f-b60b-25f477c6c60f",
   "metadata": {},
   "outputs": [
    {
     "name": "stdout",
     "output_type": "stream",
     "text": [
      "Mean Squared Error: 120558.21705079348\n",
      "Mean Absolute Error: 192.05312722349538\n",
      "R2 score:  0.2730581949660523\n",
      "computation time: 46.09\n"
     ]
    }
   ],
   "source": [
    "# Create a pipeline with feature selection and linear regression\n",
    "# use mutual_info_regression\n",
    "pipe = Pipeline([\n",
    "    ('selector', SelectKBest(score_func=mutual_info_regression)),\n",
    "    ('regression', LinearRegression())])\n",
    "\n",
    "#train the model on the training data\n",
    "start_time = time.time()\n",
    "pipe.fit(X_train, y_train.values.ravel())\n",
    "duration = time.time() - start_time\n",
    "\n",
    "# Make predictions on the test set\n",
    "y_pred=pipe.predict(X_test)\n",
    "\n",
    "# Print the mean squared/absolute error and R2 for the best model\n",
    "results(y_test,y_pred)"
   ]
  },
  {
   "cell_type": "markdown",
   "id": "0c1e6472-9600-4906-9189-6d28d7288278",
   "metadata": {},
   "source": [
    "The performance of the model decreased, indicating that mutual_info_regression may not be an effective scoring function. \n",
    "\n",
    "\n",
    "As discussed before, we can now proceed with hyperparameter tuning for both the feature selection step and the linear regression model."
   ]
  },
  {
   "cell_type": "markdown",
   "id": "d867b3f8",
   "metadata": {},
   "source": [
    "### Hyperparameter Tuning"
   ]
  },
  {
   "cell_type": "markdown",
   "id": "a7533393",
   "metadata": {},
   "source": [
    "Hyperparameter tuning is a crucial step in building machine learning models to improve their performance. "
   ]
  },
  {
   "cell_type": "code",
   "execution_count": 26,
   "id": "b32104c3-abcd-4aaf-8593-bb31ab738377",
   "metadata": {},
   "outputs": [],
   "source": [
    "#define a function to train the model on training data, make predictions on the test set using the best model,\n",
    "#and print the results for the best model\n",
    "def hypertuningresult(parameters,model):\n",
    "#train the model on the training data\n",
    "    start_time = time.time()\n",
    "    model.fit(X_train,y_train.values.ravel())\n",
    "    duration = time.time() - start_time\n",
    "\n",
    "#print the best hyperparameters\n",
    "    print('Best hyperparameter: ',model.best_params_)\n",
    "\n",
    "# Make predictions on the test set using the best model\n",
    "    best_model = model.best_estimator_\n",
    "    y_pred = best_model.predict(X_test)\n",
    "\n",
    "# Print the mean squared/absolute error and R2 for the best model\n",
    "    print(\"Mean Squared Error:\", mean_squared_error(y_test, y_pred))\n",
    "    print(\"Mean Absolute Error:\", mean_absolute_error(y_test, y_pred))\n",
    "    print(\"R2 score: \", r2_score(y_test,y_pred))\n",
    "    print('computation time: %.2f' % duration)"
   ]
  },
  {
   "cell_type": "markdown",
   "id": "a350150e-e603-4ce6-b86f-73020544bf6b",
   "metadata": {},
   "source": [
    "#### GridSearchCV"
   ]
  },
  {
   "cell_type": "markdown",
   "id": "8f920720-67cd-4a76-99dd-555139b17dde",
   "metadata": {},
   "source": [
    "Grid search is a hyperparameter tuning technique used to discover the optimal values for a model's hyperparameters. The process entails defining a grid of hyperparameter values to explore, and it systematically evaluates every combination within this grid.\n",
    "here, we'll experiment with different values of k and select the best k value to use in the SelectKBest method."
   ]
  },
  {
   "cell_type": "code",
   "execution_count": 44,
   "id": "c1b9a872-6c09-482c-bb0c-fafc877d8892",
   "metadata": {},
   "outputs": [
    {
     "name": "stderr",
     "output_type": "stream",
     "text": [
      "/Users/Arezoo/opt/anaconda3/lib/python3.9/site-packages/joblib/externals/loky/process_executor.py:752: UserWarning: A worker stopped while some jobs were given to the executor. This can be caused by a too short worker timeout or by a memory leak.\n",
      "  warnings.warn(\n"
     ]
    },
    {
     "name": "stdout",
     "output_type": "stream",
     "text": [
      "Best hyperparameter:  {'selector__k': 28}\n",
      "Mean Squared Error: 98128.27993332643\n",
      "Mean Absolute Error: 164.82884750415218\n",
      "R2 score:  0.4083062052124192\n",
      "computation time: 12.56\n"
     ]
    }
   ],
   "source": [
    "# Create a pipeline with feature selection and linear regression\n",
    "pipeline = Pipeline([\n",
    "    ('selector', SelectKBest(score_func=f_regression)),\n",
    "    ('regression', LinearRegression())])\n",
    "\n",
    "#Define the range of k and parameter grid for GridSearchCV \n",
    "k=[k+1 for k in range(len(X_train.columns))]\n",
    "grid_params={'selector__k':k}\n",
    "\n",
    "#Perform GridSerach\n",
    "tss = TimeSeriesSplit(n_splits=5)\n",
    "lr_grid_cv=GridSearchCV(pipeline,grid_params,cv=tss, scoring='neg_mean_squared_error',n_jobs=-1)\n",
    "lr_grid_cv.fit(X_train,y_train.values.ravel())\n",
    "\n",
    "# Get the best parameters and best score\n",
    "hypertuningresult(grid_params,lr_grid_cv)"
   ]
  },
  {
   "cell_type": "markdown",
   "id": "58e7b10d-7add-40d7-84bb-ebefa37604e9",
   "metadata": {},
   "source": [
    "The GridSearchCV result shows that the best hyperparameter found was to use all 28 features. \n",
    "\n",
    "The model exhibits similar performance in terms of R2 score, MAE, and MSE. Consequently, the feature selection technique employing SelectKBest with GridSearchCV did not enhance the linear regression model's performance in this scenario. Thus, opting for the simpler model without feature selection is preferable.\n",
    "\n",
    "\n",
    "In the next step, we'll employ more advanced modeling techniques that can automatically learn feature importance, such as regularized regression methods."
   ]
  },
  {
   "cell_type": "markdown",
   "id": "96896967",
   "metadata": {},
   "source": [
    "#### Regulization "
   ]
  },
  {
   "cell_type": "markdown",
   "id": "e0eecf6e",
   "metadata": {},
   "source": [
    "Now, we aim to apply regularization techniques to assess feature importance and prevent overfitting by adding a penalty term to the loss function. This penalty term discourages overly complex models by penalizing large coefficient values.\n",
    "By using regularization, the model is encouraged to focus on the most important features and avoid fitting noise in the data. \n",
    "\n",
    "There are different types of regularization techniques, such as L1 regularization (Lasso), and L2 regularization (Ridge). These techniques help to control the complexity of the model and reduce the risk of overfitting by shrinking the coefficients associated with less important features or by forcing some coefficients to be exactly zero."
   ]
  },
  {
   "cell_type": "markdown",
   "id": "f9b29d99",
   "metadata": {},
   "source": [
    "#### Ridge Regression (L2 Regularization)"
   ]
  },
  {
   "cell_type": "markdown",
   "id": "e71d4cd1",
   "metadata": {},
   "source": [
    "Ridge regression is a regularization technique used in linear regression models to address multicollinearity and overfitting. Ridge regression penalize large coefficients. By reducing overfitting and handling multicollinearity, ridge regression often leads to more accurate predictions on unseen data. "
   ]
  },
  {
   "cell_type": "code",
   "execution_count": 105,
   "id": "7a0946c8-e676-4f9c-ae22-1f8f1d55b907",
   "metadata": {},
   "outputs": [
    {
     "name": "stdout",
     "output_type": "stream",
     "text": [
      "Best hyperparameter:  {'alpha': 0.6}\n",
      "Mean Squared Error: 98128.29059301721\n",
      "Mean Absolute Error: 164.82658470650432\n",
      "R2 score:  0.4083061409366274\n",
      "computation time: 3.79\n"
     ]
    }
   ],
   "source": [
    "# list of alpha to tune\n",
    "grid_params = {'alpha': [ 0.0001, 0.001, 0.01, 0.05, 0.1, 0.2, 0.3, 0.4, 0.5, 0.6, 0.7, 0.8, 0.9, 1.0, 2.0, 3.0, 4.0, 5.0, 6.0, 7.0, 8.0, 9.0, \n",
    "                    10.0, 20, 50, 100, 500, 1000 ]}\n",
    "\n",
    "#initialising Ridge() function\n",
    "ridge = Ridge(random_state=42)\n",
    "\n",
    "# Defining GridSearchCV \n",
    "tss = TimeSeriesSplit(n_splits=5)\n",
    "grid_cv_model = GridSearchCV(estimator=ridge,\n",
    "                       param_grid=grid_params,\n",
    "                       cv=tss, n_jobs=-1)\n",
    "\n",
    "hypertuningresult(grid_params,grid_cv_model)\n"
   ]
  },
  {
   "cell_type": "markdown",
   "id": "111226c1-e62e-49e6-ad09-798eeb78f6f9",
   "metadata": {},
   "source": [
    "- Despite adjusting the hyperparameters, there was no significant impact on MSE or R2.\n",
    "- The dataset may not suffer from severe overfitting issues or multicollinearity among the predictor variables that could be mitigated by Ridge Regression. If the linear regression model already generalizes well to unseen data and exhibits low multicollinearity, introducing regularization may not provide much additional benefit.\n",
    "- Overall, while Ridge Regression is a powerful regularization technique, its effectiveness depends on various factors such as the nature of the dataset, the presence of multicollinearity, and the choice of hyperparameters. In this case, further experimentation with different regularization strengths and possibly exploring other regularization techniques could help improve model performance.\n",
    "- The next step involves exploring Lasso regression.\n"
   ]
  },
  {
   "cell_type": "markdown",
   "id": "dff274f4",
   "metadata": {},
   "source": [
    "#### Lasso Regression (L1 Regularization):"
   ]
  },
  {
   "cell_type": "markdown",
   "id": "f1222cf8-f141-4c23-a522-45873d3e69a4",
   "metadata": {},
   "source": [
    "Lasso performs feature selection. It shrinks the coefficients of less important features to zero. Features which are not shrunk to zero are selected by Lasso. "
   ]
  },
  {
   "cell_type": "code",
   "execution_count": 106,
   "id": "c46323b6-c92c-4324-90a3-10da9f5d9afb",
   "metadata": {},
   "outputs": [
    {
     "name": "stdout",
     "output_type": "stream",
     "text": [
      "Best hyperparameter:  {'alpha': 0.0001}\n",
      "Mean Squared Error: 98128.2798787315\n",
      "Mean Absolute Error: 164.82842605659798\n",
      "R2 score:  0.4083062055416157\n",
      "computation time: 22.88\n"
     ]
    }
   ],
   "source": [
    "#Initializing Lasso()\n",
    "lasso_reg=Lasso(random_state=42)\n",
    "\n",
    "# Defining GridSearchCV and fiting GridSearchCV() with X_train and y_train\n",
    "tss = TimeSeriesSplit(n_splits=5)\n",
    "grid_cv_model=GridSearchCV(estimator=lasso_reg, param_grid=grid_params, cv=tss, n_jobs=-1)\n",
    "grid_cv_model.fit(X_train,y_train)\n",
    "\n",
    "hypertuningresult(grid_params,grid_cv_model)"
   ]
  },
  {
   "cell_type": "markdown",
   "id": "d02441b3-022f-4d1a-b8bf-2f0ed427ab8b",
   "metadata": {},
   "source": [
    "Similar to the Ridge regression results, the hyperparameter adjustment in Lasso regression did not result in a significant change in Mean Squared Error (MSE) or R2 score. The lack of improvement in the above models could be attributed to a combination of factors related to the dataset characteristics, the choice of hyperparameters, and the inherent limitations of the linear regression approach.\n",
    "\n",
    "Considering the minimal improvement achieved through regularization techniques, it prompts us to question the suitability of the linear regression model for accurately predicting the 'Number of Orders.' To enhanced the model performance, we will explore the implementation of a Decision Tree Regressor in the next step."
   ]
  },
  {
   "cell_type": "markdown",
   "id": "1c577767-ac54-4478-bfbc-c56fd656db63",
   "metadata": {},
   "source": [
    "## 2-Decision Tree Regressor"
   ]
  },
  {
   "cell_type": "markdown",
   "id": "04092ad3-d29c-40a2-adc5-6f8dd73e34a4",
   "metadata": {},
   "source": [
    "By using a decision tree regressor, we can capture non-linear relationships between features and number of orders, which may improve the predictive performance compared to the linear regression. \n",
    "\n",
    "Additionally, decision trees are interpretable, allowing us to understand the decision-making process of the model."
   ]
  },
  {
   "cell_type": "code",
   "execution_count": 19,
   "id": "950ce8ce-d1d3-4c07-a649-44b0c23aac3b",
   "metadata": {},
   "outputs": [
    {
     "name": "stdout",
     "output_type": "stream",
     "text": [
      "Mean Squared Error: 44801.975660601485\n",
      "Mean Absolute Error: 92.72407743924984\n",
      "R2 score:  0.7298530962673169\n",
      "computation time: 1.81\n"
     ]
    }
   ],
   "source": [
    "#creat a decision tree regressor\n",
    "DTRModel= DecisionTreeRegressor(random_state=42)\n",
    "\n",
    "#train the model on the training data\n",
    "start_time = time.time()\n",
    "DTRModel.fit(X_train,y_train)\n",
    "duration = time.time() - start_time\n",
    "#make prediction on the test set\n",
    "y_pred=DTRModel.predict(X_test)\n",
    "\n",
    "#evaluate the model performance\n",
    "results(y_test,y_pred)"
   ]
  },
  {
   "cell_type": "code",
   "execution_count": 107,
   "id": "1cc7a3f8-a566-4ba7-a078-41f5a4ea3d90",
   "metadata": {},
   "outputs": [
    {
     "name": "stdout",
     "output_type": "stream",
     "text": [
      "DecisionTree_Depth: 49 DecisionTree_n_leaves: 279733\n"
     ]
    }
   ],
   "source": [
    "# print the Depth of the DecisionTree and Number of Leaves\n",
    "print('DecisionTree_Depth:',DTRModel.get_depth(),'DecisionTree_n_leaves:',DTRModel.get_n_leaves())"
   ]
  },
  {
   "cell_type": "markdown",
   "id": "4937795c-0def-41e0-a787-fbad6ac8230e",
   "metadata": {},
   "source": [
    "The decision tree model demonstrates better performance compared to the linear regression model in several aspects:\n",
    "- It achieves lower mean squared error (MSE) and mean absolute error (MAE), indicating more accurate predictions.\n",
    "- Additionally, the decision tree model exhibits a higher R2 score, suggesting that it explains a larger portion of the variance in the target variable.\n",
    "- This improvement can be attributed to the decision tree's ability to capture complex, non-linear relationships between features and the target variable, which may be challenging for linear regression.\n",
    "- Moreover, decision trees offer greater flexibility, enabling them to adapt to complex data patterns and interactions among features.\n",
    "- Overall, the decision tree model's lower error metrics, higher R2 score, and flexibility contribute to its better performance over linear regression."
   ]
  },
  {
   "cell_type": "markdown",
   "id": "e117625f-f4d1-42db-993d-2477e789db38",
   "metadata": {},
   "source": [
    "#### Variable importance\n",
    "\n",
    "We want to conduct a feature importance analysis to assign a score to each feature within the dataset. The importance score represents how much each feature contributes to reducing the impurity (or variance) in the target variable within the decision tree. "
   ]
  },
  {
   "cell_type": "code",
   "execution_count": 55,
   "id": "463e357e-523c-4bb7-b57d-61c75f457963",
   "metadata": {},
   "outputs": [
    {
     "data": {
      "image/png": "[encoded data removed]",
      "text/plain": [
       "<Figure size 1080x720 with 1 Axes>"
      ]
     },
     "metadata": {
      "needs_background": "light"
     },
     "output_type": "display_data"
    }
   ],
   "source": [
    "# Get feature importances\n",
    "importances_DT = DTRModel.feature_importances_\n",
    "\n",
    "#Create a dataframe with feature names and their importances\n",
    "#and sort feature importances in descending order\n",
    "feature_importance_DT=pd.DataFrame({'Feature': X_train.columns,'Importance': importances_DT})\n",
    "feature_importance_DT=feature_importance_DT.sort_values(by='Importance',  ascending=False)\n",
    "\n",
    "# Plot feature importances\n",
    "plt.figure(figsize=(15, 10))\n",
    "plt.title(\"Feature Importance\")\n",
    "#plt.bar(range(X_train.shape[1]), importances[indices])\n",
    "#plt.xticks(range(X_train.shape[1]), names, rotation=90)\n",
    "sns.barplot(x='Importance', y='Feature', data=feature_importance_DT)\n",
    "plt.title('Feature Importance')                               \n",
    "plt.ylabel('features')\n",
    "plt.xlabel('importance')\n",
    "plt.show()"
   ]
  },
  {
   "cell_type": "markdown",
   "id": "05307275-6534-4e6f-ad16-a54d04828114",
   "metadata": {},
   "source": [
    "The figure presents the feature importance computed from a decision tree model.\n",
    "- A higher importance value indicates that the feature plays a more significant role in making predictions, while a lower value suggests lesser relevance.\n",
    "- For example, the feature \"checkout_price\" has the highest importance score of 0.23, indicating that it has the most substantial impact on the model's predictions. Conversely, features like \"C_Soup,\" \"C_Starters,\" and \"C_Other Snacks\" have very low importance scores, suggesting they contribute minimally to the model's predictive power."
   ]
  },
  {
   "cell_type": "markdown",
   "id": "40a74f45-2252-4616-a668-a7cf5ed44f78",
   "metadata": {},
   "source": [
    "Although we achieved better performance with the decision tree model, it's important to note that decision trees can be prone to overfitting. Therefore, we may need to tune hyperparameters or explore ensemble methods like random forest to further improve performance. Taking these steps will help address potential overfitting issues and enhance the overall effectiveness of the model."
   ]
  },
  {
   "cell_type": "markdown",
   "id": "d2739960-1777-4ec4-9759-b4159596eb57",
   "metadata": {},
   "source": [
    "### Hyperparameter tunning"
   ]
  },
  {
   "cell_type": "markdown",
   "id": "e04d7e32-fe9c-498e-8b9c-2fa4b8874d13",
   "metadata": {},
   "source": [
    "For decision trees, there are several hyperparameters that can be tuned to improve model performance. \"max_depth\", \"min_samples_split\", and \"max_leaf_nodes\" are some common hyperparameters that we tuned here. By adjusting these hyperparameters using techniques like grid search or random search, we may find the combination that results in better performance for the decision tree model."
   ]
  },
  {
   "cell_type": "markdown",
   "id": "2291c8d0-dced-4d99-bbe5-7ffd6b27913a",
   "metadata": {},
   "source": [
    "#### Grid Search"
   ]
  },
  {
   "cell_type": "markdown",
   "id": "cde9b9a3-472f-470d-9d81-a03b6dc8d2c9",
   "metadata": {},
   "source": [
    "We begin with the Grid Search technique, followed by the Random Search technique."
   ]
  },
  {
   "cell_type": "code",
   "execution_count": 110,
   "id": "d62d793e-0e96-4b80-8d28-552608119528",
   "metadata": {},
   "outputs": [],
   "source": [
    "#setup hyperparameters range for tuning \n",
    "grid_param_DT={'max_depth':[None,1, 3, 5, 7, 9, 11, 13, 15, 17, 19],\n",
    "               'min_samples_split':np.arange(2,11).tolist()[0::2],\n",
    "               'max_leaf_nodes':[None,3, 5, 7, 9, 11, 13, 15, 17, 19, 21, 23, 25]}"
   ]
  },
  {
   "cell_type": "code",
   "execution_count": 36,
   "id": "605ede71-8920-4328-9c44-78eb50a8be16",
   "metadata": {},
   "outputs": [
    {
     "name": "stdout",
     "output_type": "stream",
     "text": [
      "Best hyperparameter:  {'max_depth': 19, 'max_leaf_nodes': None, 'min_samples_split': 10}\n",
      "Mean Squared Error: 35984.21715916172\n",
      "Mean Absolute Error: 84.0796264735569\n",
      "R2 score:  0.7830224068145142\n",
      "computation time: 429.06\n"
     ]
    }
   ],
   "source": [
    "# Defining GridSearchCV and fiting GridSearchCV() with X_train and y_train\n",
    "grid_cv_DT=GridSearchCV(DecisionTreeRegressor(random_state=42), param_grid=grid_param_DT, cv=5, n_jobs=-1)\n",
    "\n",
    "hypertuningresult(grid_param_DT,grid_cv_DT)"
   ]
  },
  {
   "cell_type": "code",
   "execution_count": 84,
   "id": "3dd038e2-5f2a-4b7b-b351-66e710266c81",
   "metadata": {},
   "outputs": [
    {
     "name": "stdout",
     "output_type": "stream",
     "text": [
      "Gridserach_Depth: 19 GridSerach_n_leaves: 19104\n"
     ]
    }
   ],
   "source": [
    "#Finding the Depth and Number of Leaves for Grid Search\n",
    "best_model=grid_cv_DT.best_estimator_\n",
    "print('Gridserach_Depth:',best_model.get_depth(),'GridSerach_n_leaves:',best_model.get_n_leaves())"
   ]
  },
  {
   "cell_type": "markdown",
   "id": "0096169c-5860-4f42-849b-759baf5f1748",
   "metadata": {},
   "source": [
    "#### Randomised Search"
   ]
  },
  {
   "cell_type": "markdown",
   "id": "222cc311-d69c-4641-8ffd-491263469884",
   "metadata": {},
   "source": [
    "In Randomized Search, instead of exhaustively evaluating all possible combinations of hyperparameter values, a fixed number of random combinations is sampled from the specified hyperparameter space. We'll consider 100 random combinations of hyperparameter values."
   ]
  },
  {
   "cell_type": "code",
   "execution_count": 111,
   "id": "88c08e1c-2dea-4bae-a616-12b0986961cf",
   "metadata": {},
   "outputs": [
    {
     "name": "stdout",
     "output_type": "stream",
     "text": [
      "Best hyperparameter:  {'min_samples_split': 8, 'max_leaf_nodes': None, 'max_depth': 19}\n",
      "Mean Squared Error: 37073.104181833834\n",
      "Mean Absolute Error: 84.4275956859513\n",
      "R2 score:  0.7764566370386903\n",
      "computation time: 34.48\n"
     ]
    }
   ],
   "source": [
    "# Defining RandomizedSearchCV\n",
    "random_cv_DT = RandomizedSearchCV(DecisionTreeRegressor(random_state=42), grid_param_DT, cv=5, n_iter=100, random_state=42, n_jobs=-1)\n",
    "\n",
    "hypertuningresult(grid_param_DT,random_cv_DT)"
   ]
  },
  {
   "cell_type": "code",
   "execution_count": 113,
   "id": "b6e3b96f-e428-40ef-a671-b4bd95bdcdbe",
   "metadata": {},
   "outputs": [
    {
     "name": "stdout",
     "output_type": "stream",
     "text": [
      "Randomserach_Depth: 19 RandomSerach_n_leaves: 21824\n"
     ]
    }
   ],
   "source": [
    "#Finding the Depth and Number of Leaves for Randomised Search\n",
    "best_model=random_cv_DT.best_estimator_\n",
    "print('Randomserach_Depth:',best_model.get_depth(),'RandomSerach_n_leaves:',best_model.get_n_leaves())"
   ]
  },
  {
   "cell_type": "markdown",
   "id": "0ccc638b-4b43-47bb-aed4-ed0174b820f6",
   "metadata": {},
   "source": [
    "- The decision tree model with default parameters (max_depth=None, max_leaf_nodes=None, min_samples_split=2) yielded the higher Mean Squared Error (MSE) of 44801.98.\n",
    "It also resulted in the higher Mean Absolute Error (MAE) of 92.72 and a lower R2 score of 0.7299 compared to the tuned models.\n",
    "Moreover, this default model exhibited an extremely large depth of 49 and an exceptionally high number of leaves (279,733), suggesting overfitting.\n",
    "- Grid search selected the best hyperparameters {'max_depth': 19, 'max_leaf_nodes': None, 'min_samples_split': 10}, resulting in a notably improved MSE of 35984.22.\n",
    "This led to a lower MAE of 84.08 and a higher R2 score of 0.7830 compared to the default decision tree model.\n",
    "Furthermore, the grid search achieved a more reasonable depth of 19 and a significantly reduced number of leaves (19,104), indicating better generalization and less overfitting.\n",
    "- Random search hyperparameter tuning found the best hyperparameters {'min_samples_split': 8, 'max_leaf_nodes': None, 'max_depth': 19}, resulting in a slightly higher MSE of 37073.10 compared to grid search.\n",
    "Despite the slightly higher MSE, random search produced a lower MAE of 84.43 and a competitive R2 score of 0.7765.\n",
    "Similar to grid search, random search also achieved a reasonable depth of 19 and a reduced number of leaves (21,824), indicating effective control over model complexity.\n",
    "\n",
    "In summary, both grid search and random search led to significant improvements in model performance compared to default parameters, with grid search slightly outperforming random search in terms of MSE and R2 score. However, grid search incurred a much higher computation time compared to random search. Nonetheless, both tuned models exhibited almost similar depths and numbers of leaves, suggesting better generalization and less overfitting compared to the default model."
   ]
  },
  {
   "cell_type": "markdown",
   "id": "3e98e610-bdfe-4223-9f50-7197b270fca1",
   "metadata": {},
   "source": [
    "In the next step, we'll explore ensemble methods like random forest to assess potential improvements in model performance."
   ]
  },
  {
   "cell_type": "markdown",
   "id": "76d92460-5668-41bc-b7da-e7c3f81071f5",
   "metadata": {},
   "source": [
    "### Random Forest model"
   ]
  },
  {
   "cell_type": "markdown",
   "id": "1f40d3dd-6ca8-418a-8745-3a88dd125303",
   "metadata": {},
   "source": [
    "- Random Forest is an ensemble learning method that constructs multiple decision trees and aggregates their predictions.\n",
    "- It can capture more complex relationships in the data compared to individual decision trees.\n",
    "- Random Forest offers improved generalization and reduced overfitting compared to standalone decision trees.\n",
    "- With the ability to handle a large number of features and robustness to noisy data, Random Forest is a valuable technique for enhancing predictive accuracy and model generalization."
   ]
  },
  {
   "cell_type": "code",
   "execution_count": 94,
   "id": "06dbbf18-2bba-41d5-ad55-e897f943bcbe",
   "metadata": {},
   "outputs": [
    {
     "name": "stdout",
     "output_type": "stream",
     "text": [
      "Mean Squared Error: 23041.121328211364\n",
      "Mean Absolute Error: 70.2134422863616\n",
      "R2 score:  0.8610666718695811\n",
      "computation time: 123.14\n"
     ]
    }
   ],
   "source": [
    "# Initialize the  regressor \n",
    "rf=RandomForestRegressor(random_state=42)\n",
    "    \n",
    "#Trian the model on the the training data\n",
    "start_time = time.time()\n",
    "rf.fit(X_train,y_train.values.ravel())\n",
    "duration = time.time() - start_time\n",
    "\n",
    "#Make predictions on the testing data\n",
    "y_pred=rf.predict(X_test)\n",
    "\n",
    "#Print the performance of the model- Mean squared error,Mean absolute error, R-squared (MSE, MAE, and R2), and computation time\n",
    "results(y_test,y_pred)"
   ]
  },
  {
   "cell_type": "markdown",
   "id": "ee1e72fd-8d42-49d7-a37f-6fc5ddf475f7",
   "metadata": {},
   "source": [
    "- The Random Forest model has lower Mean Squared Error (MSE) and Mean Absolute Error (MAE) compared to the Decision Tree model. This indicates that the Random Forest model's predictions are closer to the actual values on average.\n",
    "\n",
    "- The R2 score of the Random Forest model is also higher, indicating that a larger proportion of the variance in the target variable is explained by the features in the Random Forest model compared to the Decision Tree model.\n",
    "\n",
    "- Although the Random Forest model took longer to compute compared to the Decision Tree model, the improved performance justifies the additional computational cost. The increase in computation time is often considered acceptable when the model provides significantly better results.\n",
    "\n",
    "Overall, the Random Forest model's superior performance can be attributed to its ability to combine multiple decision trees and mitigate overfitting, resulting in more accurate predictions and better generalization to unseen data compared to a single Decision Tree model."
   ]
  },
  {
   "cell_type": "markdown",
   "id": "501b0ee7-8ff7-44d0-93d2-d4e877d27cb2",
   "metadata": {},
   "source": [
    "#### Variable Importance"
   ]
  },
  {
   "cell_type": "markdown",
   "id": "385739e8-f6a6-4439-9a9d-1a36e93f285d",
   "metadata": {},
   "source": [
    "Variable importance in a random forest model can be assessed using various techniques. One common method is to calculate the mean decrease in impurity (MDI) or the mean decrease in accuracy (MDA) for each feature."
   ]
  },
  {
   "cell_type": "code",
   "execution_count": 89,
   "id": "d55ca04c-f090-469f-a3d6-521662b82cb3",
   "metadata": {},
   "outputs": [
    {
     "data": {
      "image/png": "[encoded data removed]",
      "text/plain": [
       "<Figure size 1080x720 with 1 Axes>"
      ]
     },
     "metadata": {
      "needs_background": "light"
     },
     "output_type": "display_data"
    }
   ],
   "source": [
    "# Get feature importances\n",
    "importances = rf.feature_importances_\n",
    "\n",
    "#Create a dataframe with feature names and their importances\n",
    "#and sort feature importances in descending order\n",
    "feature_importance=pd.DataFrame({'Feature': X_train.columns,'Importance': importances})\n",
    "feature_importance=feature_importance.sort_values(by='Importance',  ascending=False)\n",
    "\n",
    "# Plot feature importances\n",
    "plt.figure(figsize=(15,10))\n",
    "plt.title(\"Feature importances\")\n",
    "sns.barplot(x='Importance', y='Feature', data=feature_importance)\n",
    "plt.xlabel(\"Feature index\")\n",
    "plt.ylabel(\"Feature importance\")\n",
    "plt.show()"
   ]
  },
  {
   "cell_type": "markdown",
   "id": "1a4bfea3-86c6-47ac-8af4-88f5c06aba73",
   "metadata": {},
   "source": [
    "This table displays the feature importance values for various features in the dataset. \n",
    "- The importance of each feature is determined based on its contribution to reducing the impurity or variance in the target variable within the decision tree model. Features with higher importance values are considered more influential in making predictions, while those with lower values are deemed less relevant. \n",
    "- Notably, features like 'checkout_price', 'op_area', and 'homepage_featured' exhibit higher importance, indicating their greater influence on the target variable.\n",
    "- Conversely, features such as 'C_Fish', 'C_Biryani', and 'C_Seafood' demonstrate minimal importance, suggesting lesser relevance in predicting the target variable."
   ]
  },
  {
   "cell_type": "markdown",
   "id": "eca6da3a-509e-41c2-b3ad-fb50bd5ac188",
   "metadata": {},
   "source": [
    "To further improve the Randon Forest model, we consider the following:\n",
    "- Hyperparameter Tuning: Experiment with different values for hyperparameters. We can use techniques like Random Search to find the optimal combination of hyperparameters that maximize model performance.\n",
    "- Ensemble Methods: Try other ensemble methods such as XGBoost or AdaBoost, which may offer complementary advantages to Random Forests and potentially improve performance further."
   ]
  },
  {
   "cell_type": "markdown",
   "id": "c55302b2-27d9-4210-b88d-ecb8adf185e2",
   "metadata": {},
   "source": [
    "#### Hyperparameter Tuning"
   ]
  },
  {
   "cell_type": "markdown",
   "id": "af7a9317-cf2f-4eaf-b472-b9b9d12fdbba",
   "metadata": {},
   "source": [
    "While the random forest model demonstrates better performance on the test set, there is room for further improvement through fine-tuning the hyperparameters. It's crucial to strike a balance between enhancing model performance and maintaining its complexity.\n",
    "We will experiment with different values, including the number of trees in the forest (n_estimators), the maximum depth of the trees (max_depth), and the minimum number of samples required to split a node (min_samples_split).\n",
    "\n",
    "We'll employ Randomized Search, which randomly samples a subset of hyperparameter combinations. We'll consider the defult value 10 random combinations of hyperparameter values. Subsequently, we'll compare the results of the best model with those obtained using the default hyperparameter values to determine any improvements."
   ]
  },
  {
   "cell_type": "markdown",
   "id": "6dc11334-2673-40e5-9dc5-ed573c41c2a5",
   "metadata": {},
   "source": [
    "#### Randomised Search"
   ]
  },
  {
   "cell_type": "code",
   "execution_count": 73,
   "id": "c5a49def-2152-4f89-8120-2cc49ab0b0b8",
   "metadata": {},
   "outputs": [],
   "source": [
    "#setup hyperparameters range for tuning \n",
    "grid_param_RFr={'n_estimators':[10, 20, 50, 100],\n",
    "    'max_depth': [None, 10, 50, 100],\n",
    "    'min_samples_split': [2, 5, 10],\n",
    "  }"
   ]
  },
  {
   "cell_type": "code",
   "execution_count": 74,
   "id": "c269787c-22be-4a85-a2c4-2e823a25efc3",
   "metadata": {},
   "outputs": [
    {
     "name": "stderr",
     "output_type": "stream",
     "text": [
      "/Users/Arezoo/opt/anaconda3/lib/python3.9/site-packages/joblib/externals/loky/process_executor.py:752: UserWarning: A worker stopped while some jobs were given to the executor. This can be caused by a too short worker timeout or by a memory leak.\n",
      "  warnings.warn(\n"
     ]
    },
    {
     "name": "stdout",
     "output_type": "stream",
     "text": [
      "Best hyperparameter:  {'n_estimators': 100, 'min_samples_split': 2, 'max_depth': 50}\n",
      "Mean Squared Error: 23043.208642490332\n",
      "Mean Absolute Error: 70.2120922634374\n",
      "R2 score:  0.8610540857842296\n",
      "computation time: 453.58\n"
     ]
    }
   ],
   "source": [
    "# Defining RandomizedSearchCV\n",
    "random_cv_RF = RandomizedSearchCV(RandomForestRegressor(random_state=42), grid_param_RFr, cv=5, random_state=42, n_jobs=-1)\n",
    "\n",
    "hypertuningresult(grid_param_RFr,random_cv_RF)"
   ]
  },
  {
   "cell_type": "markdown",
   "id": "f812f2c7-883f-45be-ae62-8ddf2bc6e09a",
   "metadata": {},
   "source": [
    "The Random Forest model with RandomSearch hyperparameter tuning produced slightly better results compared to the default Random Forest model. However, this improvement comes at the cost of increased computation time, which more than tripled compared to the default model. \n"
   ]
  },
  {
   "cell_type": "markdown",
   "id": "9b9fdaca-a0b4-4ef3-9edd-c7aa35d24343",
   "metadata": {},
   "source": [
    "Now, we will try the XGBoost model and compare the results to determine if there is an improvement in model performance."
   ]
  },
  {
   "cell_type": "markdown",
   "id": "ec3e261e-72f1-4c53-be7f-3654148badf0",
   "metadata": {},
   "source": [
    "### XGBoost model"
   ]
  },
  {
   "cell_type": "markdown",
   "id": "571034c7-39a6-46b8-ba0a-b73adae66692",
   "metadata": {},
   "source": [
    "XGBoost is a machine learning algorithm belonging to the gradient boosting family. It follows a framework where an ensemble of weak learners, typically decision trees, is constructed sequentially. Each tree corrects errors from the preceding ones, resulting in a robust predictive model. \n",
    "\n",
    "XGBoost incorporates regularization techniques to prevent overfitting and employs tree pruning during construction. Initially building deep trees, it then prunes them backward, removing branches that do not significantly contribute to model performance, effectively controlling overfitting.\n",
    "\n",
    "The learning rate, or shrinkage, parameter in XGBoost determines each tree's contribution to the final prediction. Lower learning rates enhance model robustness but may necessitate more trees. Designed for efficiency and speed, XGBoost supports parallel and distributed computing, making it scalable for large datasets. \n",
    "\n",
    "In summary, XGBoost excels in predictive performance, speed, and robustness, potentially capturing patterns overlooked by other models such as Random Forest or linear regression. It's worth experimenting with it to see if it can further enhance our model."
   ]
  },
  {
   "cell_type": "code",
   "execution_count": 43,
   "id": "db949493-1bb1-4396-89ab-e3173b7b089f",
   "metadata": {},
   "outputs": [
    {
     "name": "stdout",
     "output_type": "stream",
     "text": [
      "Mean Squared Error: 23684.440590737868\n",
      "Mean Absolute Error: 79.69256411672339\n",
      "R2 score:  0.8571875860855147\n",
      "computation time: 1.55\n"
     ]
    }
   ],
   "source": [
    "# Initialize the  regressor \n",
    "xgbr= xgb.XGBRegressor(random_state=42)\n",
    "    \n",
    "#Trian the model on the the training data\n",
    "start_time = time.time()\n",
    "xgbr.fit(X_train,y_train.values.ravel())\n",
    "duration = time.time() - start_time\n",
    "\n",
    "#Make predictions on the testing data\n",
    "y_pred=xgbr.predict(X_test)\n",
    "\n",
    "# Print the mean squared/absolute error and R2 for the best model\n",
    "results(y_test,y_pred)"
   ]
  },
  {
   "cell_type": "markdown",
   "id": "f3809d46-029c-453a-a0a9-fa5a72f4958a",
   "metadata": {},
   "source": [
    "Although the random forest model exhibits slightly better performance than the XGBoost model, the computation time for XGBoost is significantly lower. Therefore, while Random Forest demonstrates superior predictive accuracy, XGBoost stands out for its computational efficiency, making it a potential choice."
   ]
  },
  {
   "cell_type": "markdown",
   "id": "28fcd577-94d9-47dd-b451-033265f305e3",
   "metadata": {},
   "source": [
    "#### Variable Importance"
   ]
  },
  {
   "cell_type": "markdown",
   "id": "d10b18f4-bfa1-48ed-89a0-69552f686c69",
   "metadata": {},
   "source": [
    "Variable importance in XGBoost allows us to understand the contribution of each feature to the model's predictions effectively. The model calculates importance scores based on how often a feature is used to split the data across all trees in the ensemble and how much each split improves the model's performance. Higher importance scores suggest that a feature plays a more critical role in making accurate predictions. By analyzing variable importance in XGBoost, we gain insights into which features significantly impact the model's decision-making process. "
   ]
  },
  {
   "cell_type": "code",
   "execution_count": 116,
   "id": "5c9dbde1-17f4-4cad-b40b-03da922f26c2",
   "metadata": {},
   "outputs": [
    {
     "data": {
      "image/png": "[encoded data removed]",
      "text/plain": [
       "<Figure size 1080x720 with 1 Axes>"
      ]
     },
     "metadata": {
      "needs_background": "light"
     },
     "output_type": "display_data"
    }
   ],
   "source": [
    "# Get feature importances\n",
    "importances_xgbr = xgbr.feature_importances_\n",
    "\n",
    "#Create a dataframe with feature names and their importances\n",
    "#and sort feature importances in descending order\n",
    "feature_importance_xgbr=pd.DataFrame({'Feature': X_train.columns,'Importance': importances_xgbr})\n",
    "feature_importance_xgbr=feature_importance_xgbr.sort_values(by='Importance',  ascending=False)\n",
    "\n",
    "# Plot feature importances\n",
    "plt.figure(figsize=(15,10))\n",
    "plt.title(\"Feature importances\")\n",
    "sns.barplot(x='Importance', y='Feature', data=feature_importance_xgbr)\n",
    "plt.xlabel(\"Feature index\")\n",
    "plt.ylabel(\"Feature importance\")\n",
    "plt.show()"
   ]
  },
  {
   "cell_type": "markdown",
   "id": "570de234-9fe1-485c-9c0a-960fa3d633a2",
   "metadata": {},
   "source": [
    "The feature importance figure indicates the contribution of each feature to the predictive performance of the model. Higher importance values suggest that the corresponding features have a more significant impact on the model's predictions. \n",
    "\n",
    "In this case, the top five features with the highest importance are \"C_Rice Bowl,\" \"C_Italian,\" \"C_Sandwich,\" \"C_Indian,\" and \"homepage_featured.\" These features play a crucial role in determining the number of orders. For instance, the presence of certain food categories like rice bowls, Italian dishes, and sandwiches has a substantial positive influence, while the \"homepage_featured\" feature, indicating whether a meal is featured on the homepage, also contributes significantly. \n",
    "\n",
    "On the other hand, features like \"C_Desert,\" \"C_Seafood,\" and \"C_Fish\" have comparatively lower importance, suggesting a lesser impact on the model's predictions. Understanding feature importance helps in identifying key factors driving demand and aids in making informed decisions for optimizing business strategies."
   ]
  },
  {
   "cell_type": "markdown",
   "id": "7b0ed7bd-677b-49aa-860a-efa5acaff372",
   "metadata": {},
   "source": [
    "### Hyperparameter Tuning"
   ]
  },
  {
   "cell_type": "markdown",
   "id": "34e8a70b-f6f3-4c8b-b525-16a6f2994567",
   "metadata": {},
   "source": [
    "Common hyperparameters for XGBoost that we tuned here include 'n_estimators,' 'learning_rate,' 'max_depth,' 'min_child_weight,' 'gamma,' and 'colsample_bytree."
   ]
  },
  {
   "cell_type": "markdown",
   "id": "fcd40e12-94bc-478c-ab93-9baafdd7d417",
   "metadata": {},
   "source": [
    "### Randomised Search"
   ]
  },
  {
   "cell_type": "code",
   "execution_count": 62,
   "id": "cc8b6696-f8e0-40c0-99f7-1e5998499e03",
   "metadata": {},
   "outputs": [
    {
     "name": "stdout",
     "output_type": "stream",
     "text": [
      "Best hyperparameter:  {'n_estimators': 100, 'min_child_weight': 3.0, 'max_depth': 10, 'learning_rate': None, 'gamma': 0.25, 'colsample_bytree': 0.7}\n",
      "Mean Squared Error: 17602.133083646277\n",
      "Mean Absolute Error: 66.10910752344554\n",
      "R2 score:  0.8938626772252072\n",
      "computation time: 316.97\n"
     ]
    }
   ],
   "source": [
    "#perform randomized hyperparameter search for XGBRegressor\n",
    "params = {\n",
    "    'n_estimators': [None,10, 20, 50, 100],\n",
    "    'learning_rate': [None,0.001, 0.01, 0.1, 0.2, 0.3],\n",
    "    'max_depth': [None, 10, 50, 100],\n",
    "    'min_child_weight': [None,0.5, 1.0, 3.0, 5.0],\n",
    "    'gamma': [None,0, 0.25, 0.5, 1.0],   \n",
    "    'colsample_bytree': [None,0.5, 0.7, 0.8, 0.9, 1]\n",
    "}\n",
    "tss = TimeSeriesSplit(n_splits=5)\n",
    "xgbcv = RandomizedSearchCV(xgbr, params, cv=tss, n_jobs=-1)\n",
    "\n",
    "hypertuningresult(params,xgbcv)"
   ]
  },
  {
   "cell_type": "markdown",
   "id": "5db93bb3-0dba-4ca3-8684-5e6950f4f2cd",
   "metadata": {},
   "source": [
    "The results from XGBoost with hyperparameter tuning using randomized search demonstrate improvement over the default XGBoost model. The best hyperparameters, including the number of estimators, minimum child weight, maximum depth, learning rate, gamma, and colsample by tree, were optimized, resulting in a lower Mean Squared Error, Mean Absolute Error, and a higher R2 score. The computation time increased due to the extensive search for optimal parameters, but the enhancement in predictive performance justifies the additional computational investment. The tuned XGBoost model with randomized search outperforms the default XGBoost model and presents a compelling choice for accurate and efficient predictions."
   ]
  },
  {
   "cell_type": "markdown",
   "id": "a1bbcb82",
   "metadata": {},
   "source": [
    "## Result Summary and Final Model Selection"
   ]
  },
  {
   "cell_type": "markdown",
   "id": "328cfb4c-1309-498b-94f3-47e6b0c45328",
   "metadata": {},
   "source": [
    "In summary, the modeling process involved exploring various algorithms, including linear regression, decision tree, random forest, and XGBoost. Each model underwent hyperparameter tuning to optimize its performance. The linear regression model, while straightforward, may not capture complex relationships in the data. The decision tree model exhibited improvements in predictive accuracy compared to linear regression. However, both random forest and XGBoost surpassed the individual decision tree model. Random forest demonstrated strong predictive accuracy, but XGBoost, with hyperparameter tuning, outperformed all models, showcasing a lower Mean Squared Error, Mean Absolute Error, and a higher R2 score.\n",
    "\n",
    "The selection of the best model depends on the specific requirements of the problem. If computational efficiency is a priority, the random forest model with default setting might be preferred due to its respectable performance and relatively lower computation time. However, if maximizing predictive accuracy is paramount and computational resources allow, the tuned XGBoost model stands out as the top performer among the considered algorithms. It's essential to balance predictive performance, computational efficiency, and model interpretability when choosing the most suitable model."
   ]
  },
  {
   "cell_type": "markdown",
   "id": "72be45cb-76ee-463a-8cd9-55b385f41d6a",
   "metadata": {},
   "source": [
    "### Future direction:\n",
    "While the presented models strike a balance between performance and computation time, it's essential to consider avenues for further improvement:\n",
    "\n",
    "- Utilizing more data: Currently, we have data spanning three years. Exploring additional data from another year or two can enhance the model's predictive capabilities.\n",
    "\n",
    "- Incorporating feature engineering: Employing advanced feature engineering techniques can contribute to refining the model's performance.\n",
    "\n",
    "- Exploring other ensemble models: Experimenting with alternative ensemble models, such as the Adaboost model, could provide valuable insights and potentially lead to improved results."
   ]
  }
 ],
 "metadata": {
  "kernelspec": {
   "display_name": "Python 3 (ipykernel)",
   "language": "python",
   "name": "python3"
  },
  "language_info": {
   "codemirror_mode": {
    "name": "ipython",
    "version": 3
   },
   "file_extension": ".py",
   "mimetype": "text/x-python",
   "name": "python",
   "nbconvert_exporter": "python",
   "pygments_lexer": "ipython3",
   "version": "3.9.12"
  }
 },
 "nbformat": 4,
 "nbformat_minor": 5
}
