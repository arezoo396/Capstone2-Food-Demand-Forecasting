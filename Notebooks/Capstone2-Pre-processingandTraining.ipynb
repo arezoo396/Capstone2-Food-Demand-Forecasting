{
 "cells": [
  {
   "cell_type": "markdown",
   "id": "a6f7e44f",
   "metadata": {},
   "source": [
    "# Preprocessing and Training Data Development¶"
   ]
  },
  {
   "cell_type": "markdown",
   "id": "34e3b8d7",
   "metadata": {},
   "source": [
    "## 1-Imports"
   ]
  },
  {
   "cell_type": "code",
   "execution_count": 55,
   "id": "6ccaeb92",
   "metadata": {},
   "outputs": [],
   "source": [
    "#Import pandas\n",
    "import pandas as pd\n",
    "import numpy as np\n",
    "from sklearn.preprocessing import StandardScaler\n",
    "from library.sb_utils import save_file\n",
    "from sklearn.model_selection import TimeSeriesSplit"
   ]
  },
  {
   "cell_type": "markdown",
   "id": "d3597eae",
   "metadata": {},
   "source": [
    "## 2-Load the data\n"
   ]
  },
  {
   "cell_type": "code",
   "execution_count": 56,
   "id": "26a81375",
   "metadata": {},
   "outputs": [],
   "source": [
    "# Load the data contains orders, fulfilment centers, and meal info\n",
    "food_orders = pd.read_csv('../Data/food_data_merged.csv')\n",
    "#food_orders_cp = pd.read_csv('../Data/food_data_merged_cp.csv')"
   ]
  },
  {
   "cell_type": "code",
   "execution_count": 57,
   "id": "1558feb4",
   "metadata": {},
   "outputs": [
    {
     "name": "stdout",
     "output_type": "stream",
     "text": [
      "<class 'pandas.core.frame.DataFrame'>\n",
      "RangeIndex: 423727 entries, 0 to 423726\n",
      "Data columns (total 15 columns):\n",
      " #   Column                 Non-Null Count   Dtype  \n",
      "---  ------                 --------------   -----  \n",
      " 0   id                     423727 non-null  int64  \n",
      " 1   week                   423727 non-null  int64  \n",
      " 2   center_id              423727 non-null  int64  \n",
      " 3   meal_id                423727 non-null  int64  \n",
      " 4   checkout_price         423727 non-null  float64\n",
      " 5   base_price             423727 non-null  float64\n",
      " 6   emailer_for_promotion  423727 non-null  int64  \n",
      " 7   homepage_featured      423727 non-null  int64  \n",
      " 8   num_orders             423727 non-null  int64  \n",
      " 9   city_code              423727 non-null  int64  \n",
      " 10  region_code            423727 non-null  int64  \n",
      " 11  center_type            423727 non-null  object \n",
      " 12  op_area                423727 non-null  float64\n",
      " 13  meal_category          423727 non-null  object \n",
      " 14  cuisine                423727 non-null  object \n",
      "dtypes: float64(3), int64(9), object(3)\n",
      "memory usage: 48.5+ MB\n"
     ]
    }
   ],
   "source": [
    "#use the info method to see a summary of the data\n",
    "food_orders.info()"
   ]
  },
  {
   "cell_type": "code",
   "execution_count": 58,
   "id": "6f970a4f",
   "metadata": {},
   "outputs": [
    {
     "data": {
      "text/html": [
       "<div>\n",
       "<style scoped>\n",
       "    .dataframe tbody tr th:only-of-type {\n",
       "        vertical-align: middle;\n",
       "    }\n",
       "\n",
       "    .dataframe tbody tr th {\n",
       "        vertical-align: top;\n",
       "    }\n",
       "\n",
       "    .dataframe thead th {\n",
       "        text-align: right;\n",
       "    }\n",
       "</style>\n",
       "<table border=\"1\" class=\"dataframe\">\n",
       "  <thead>\n",
       "    <tr style=\"text-align: right;\">\n",
       "      <th></th>\n",
       "      <th>id</th>\n",
       "      <th>week</th>\n",
       "      <th>center_id</th>\n",
       "      <th>meal_id</th>\n",
       "      <th>checkout_price</th>\n",
       "      <th>base_price</th>\n",
       "      <th>emailer_for_promotion</th>\n",
       "      <th>homepage_featured</th>\n",
       "      <th>num_orders</th>\n",
       "      <th>city_code</th>\n",
       "      <th>region_code</th>\n",
       "      <th>center_type</th>\n",
       "      <th>op_area</th>\n",
       "      <th>meal_category</th>\n",
       "      <th>cuisine</th>\n",
       "    </tr>\n",
       "  </thead>\n",
       "  <tbody>\n",
       "    <tr>\n",
       "      <th>0</th>\n",
       "      <td>1379560</td>\n",
       "      <td>1</td>\n",
       "      <td>55</td>\n",
       "      <td>1885</td>\n",
       "      <td>136.83</td>\n",
       "      <td>152.29</td>\n",
       "      <td>0</td>\n",
       "      <td>0</td>\n",
       "      <td>177</td>\n",
       "      <td>647</td>\n",
       "      <td>56</td>\n",
       "      <td>TYPE_C</td>\n",
       "      <td>2.0</td>\n",
       "      <td>Beverages</td>\n",
       "      <td>Thai</td>\n",
       "    </tr>\n",
       "    <tr>\n",
       "      <th>1</th>\n",
       "      <td>1044078</td>\n",
       "      <td>1</td>\n",
       "      <td>39</td>\n",
       "      <td>2290</td>\n",
       "      <td>301.73</td>\n",
       "      <td>299.73</td>\n",
       "      <td>0</td>\n",
       "      <td>0</td>\n",
       "      <td>419</td>\n",
       "      <td>526</td>\n",
       "      <td>34</td>\n",
       "      <td>TYPE_C</td>\n",
       "      <td>3.8</td>\n",
       "      <td>Rice Bowl</td>\n",
       "      <td>Indian</td>\n",
       "    </tr>\n",
       "    <tr>\n",
       "      <th>2</th>\n",
       "      <td>1272063</td>\n",
       "      <td>1</td>\n",
       "      <td>65</td>\n",
       "      <td>2290</td>\n",
       "      <td>305.58</td>\n",
       "      <td>306.58</td>\n",
       "      <td>0</td>\n",
       "      <td>0</td>\n",
       "      <td>878</td>\n",
       "      <td>602</td>\n",
       "      <td>34</td>\n",
       "      <td>TYPE_A</td>\n",
       "      <td>4.8</td>\n",
       "      <td>Rice Bowl</td>\n",
       "      <td>Indian</td>\n",
       "    </tr>\n",
       "    <tr>\n",
       "      <th>3</th>\n",
       "      <td>1364972</td>\n",
       "      <td>1</td>\n",
       "      <td>43</td>\n",
       "      <td>2290</td>\n",
       "      <td>279.39</td>\n",
       "      <td>279.39</td>\n",
       "      <td>0</td>\n",
       "      <td>0</td>\n",
       "      <td>944</td>\n",
       "      <td>590</td>\n",
       "      <td>56</td>\n",
       "      <td>TYPE_A</td>\n",
       "      <td>5.1</td>\n",
       "      <td>Rice Bowl</td>\n",
       "      <td>Indian</td>\n",
       "    </tr>\n",
       "    <tr>\n",
       "      <th>4</th>\n",
       "      <td>1363806</td>\n",
       "      <td>1</td>\n",
       "      <td>80</td>\n",
       "      <td>2290</td>\n",
       "      <td>311.43</td>\n",
       "      <td>311.43</td>\n",
       "      <td>0</td>\n",
       "      <td>0</td>\n",
       "      <td>446</td>\n",
       "      <td>604</td>\n",
       "      <td>56</td>\n",
       "      <td>TYPE_C</td>\n",
       "      <td>5.1</td>\n",
       "      <td>Rice Bowl</td>\n",
       "      <td>Indian</td>\n",
       "    </tr>\n",
       "  </tbody>\n",
       "</table>\n",
       "</div>"
      ],
      "text/plain": [
       "        id  week  center_id  meal_id  checkout_price  base_price  \\\n",
       "0  1379560     1         55     1885          136.83      152.29   \n",
       "1  1044078     1         39     2290          301.73      299.73   \n",
       "2  1272063     1         65     2290          305.58      306.58   \n",
       "3  1364972     1         43     2290          279.39      279.39   \n",
       "4  1363806     1         80     2290          311.43      311.43   \n",
       "\n",
       "   emailer_for_promotion  homepage_featured  num_orders  city_code  \\\n",
       "0                      0                  0         177        647   \n",
       "1                      0                  0         419        526   \n",
       "2                      0                  0         878        602   \n",
       "3                      0                  0         944        590   \n",
       "4                      0                  0         446        604   \n",
       "\n",
       "   region_code center_type  op_area meal_category cuisine  \n",
       "0           56      TYPE_C      2.0     Beverages    Thai  \n",
       "1           34      TYPE_C      3.8     Rice Bowl  Indian  \n",
       "2           34      TYPE_A      4.8     Rice Bowl  Indian  \n",
       "3           56      TYPE_A      5.1     Rice Bowl  Indian  \n",
       "4           56      TYPE_C      5.1     Rice Bowl  Indian  "
      ]
     },
     "execution_count": 58,
     "metadata": {},
     "output_type": "execute_result"
    }
   ],
   "source": [
    "#use the head method to see the first several rows of the data\n",
    "food_orders.head()"
   ]
  },
  {
   "cell_type": "markdown",
   "id": "130ca8e4",
   "metadata": {},
   "source": [
    "## 3-Feature Engineering"
   ]
  },
  {
   "cell_type": "markdown",
   "id": "1eb84418",
   "metadata": {},
   "source": [
    "#### Dummy Encoding for Categorical Features"
   ]
  },
  {
   "cell_type": "code",
   "execution_count": 59,
   "id": "1c869d8a",
   "metadata": {},
   "outputs": [
    {
     "data": {
      "text/plain": [
       "Index(['center_type', 'meal_category', 'cuisine'], dtype='object')"
      ]
     },
     "execution_count": 59,
     "metadata": {},
     "output_type": "execute_result"
    }
   ],
   "source": [
    "#selcting categorical fetures\n",
    "cat_features=food_orders.select_dtypes('object').columns\n",
    "cat_features"
   ]
  },
  {
   "cell_type": "code",
   "execution_count": 70,
   "id": "ac1ae53e",
   "metadata": {},
   "outputs": [
    {
     "data": {
      "text/html": [
       "<div>\n",
       "<style scoped>\n",
       "    .dataframe tbody tr th:only-of-type {\n",
       "        vertical-align: middle;\n",
       "    }\n",
       "\n",
       "    .dataframe tbody tr th {\n",
       "        vertical-align: top;\n",
       "    }\n",
       "\n",
       "    .dataframe thead th {\n",
       "        text-align: right;\n",
       "    }\n",
       "</style>\n",
       "<table border=\"1\" class=\"dataframe\">\n",
       "  <thead>\n",
       "    <tr style=\"text-align: right;\">\n",
       "      <th></th>\n",
       "      <th>id</th>\n",
       "      <th>week</th>\n",
       "      <th>center_id</th>\n",
       "      <th>meal_id</th>\n",
       "      <th>checkout_price</th>\n",
       "      <th>base_price</th>\n",
       "      <th>emailer_for_promotion</th>\n",
       "      <th>homepage_featured</th>\n",
       "      <th>num_orders</th>\n",
       "      <th>city_code</th>\n",
       "      <th>...</th>\n",
       "      <th>C_Pizza</th>\n",
       "      <th>C_Rice Bowl</th>\n",
       "      <th>C_Salad</th>\n",
       "      <th>C_Sandwich</th>\n",
       "      <th>C_Seafood</th>\n",
       "      <th>C_Soup</th>\n",
       "      <th>C_Starters</th>\n",
       "      <th>C_Indian</th>\n",
       "      <th>C_Italian</th>\n",
       "      <th>C_Thai</th>\n",
       "    </tr>\n",
       "  </thead>\n",
       "  <tbody>\n",
       "    <tr>\n",
       "      <th>0</th>\n",
       "      <td>1379560</td>\n",
       "      <td>1</td>\n",
       "      <td>55</td>\n",
       "      <td>1885</td>\n",
       "      <td>136.83</td>\n",
       "      <td>152.29</td>\n",
       "      <td>0</td>\n",
       "      <td>0</td>\n",
       "      <td>177</td>\n",
       "      <td>647</td>\n",
       "      <td>...</td>\n",
       "      <td>0</td>\n",
       "      <td>0</td>\n",
       "      <td>0</td>\n",
       "      <td>0</td>\n",
       "      <td>0</td>\n",
       "      <td>0</td>\n",
       "      <td>0</td>\n",
       "      <td>0</td>\n",
       "      <td>0</td>\n",
       "      <td>1</td>\n",
       "    </tr>\n",
       "    <tr>\n",
       "      <th>1</th>\n",
       "      <td>1044078</td>\n",
       "      <td>1</td>\n",
       "      <td>39</td>\n",
       "      <td>2290</td>\n",
       "      <td>301.73</td>\n",
       "      <td>299.73</td>\n",
       "      <td>0</td>\n",
       "      <td>0</td>\n",
       "      <td>419</td>\n",
       "      <td>526</td>\n",
       "      <td>...</td>\n",
       "      <td>0</td>\n",
       "      <td>1</td>\n",
       "      <td>0</td>\n",
       "      <td>0</td>\n",
       "      <td>0</td>\n",
       "      <td>0</td>\n",
       "      <td>0</td>\n",
       "      <td>1</td>\n",
       "      <td>0</td>\n",
       "      <td>0</td>\n",
       "    </tr>\n",
       "    <tr>\n",
       "      <th>2</th>\n",
       "      <td>1272063</td>\n",
       "      <td>1</td>\n",
       "      <td>65</td>\n",
       "      <td>2290</td>\n",
       "      <td>305.58</td>\n",
       "      <td>306.58</td>\n",
       "      <td>0</td>\n",
       "      <td>0</td>\n",
       "      <td>878</td>\n",
       "      <td>602</td>\n",
       "      <td>...</td>\n",
       "      <td>0</td>\n",
       "      <td>1</td>\n",
       "      <td>0</td>\n",
       "      <td>0</td>\n",
       "      <td>0</td>\n",
       "      <td>0</td>\n",
       "      <td>0</td>\n",
       "      <td>1</td>\n",
       "      <td>0</td>\n",
       "      <td>0</td>\n",
       "    </tr>\n",
       "    <tr>\n",
       "      <th>3</th>\n",
       "      <td>1364972</td>\n",
       "      <td>1</td>\n",
       "      <td>43</td>\n",
       "      <td>2290</td>\n",
       "      <td>279.39</td>\n",
       "      <td>279.39</td>\n",
       "      <td>0</td>\n",
       "      <td>0</td>\n",
       "      <td>944</td>\n",
       "      <td>590</td>\n",
       "      <td>...</td>\n",
       "      <td>0</td>\n",
       "      <td>1</td>\n",
       "      <td>0</td>\n",
       "      <td>0</td>\n",
       "      <td>0</td>\n",
       "      <td>0</td>\n",
       "      <td>0</td>\n",
       "      <td>1</td>\n",
       "      <td>0</td>\n",
       "      <td>0</td>\n",
       "    </tr>\n",
       "    <tr>\n",
       "      <th>4</th>\n",
       "      <td>1363806</td>\n",
       "      <td>1</td>\n",
       "      <td>80</td>\n",
       "      <td>2290</td>\n",
       "      <td>311.43</td>\n",
       "      <td>311.43</td>\n",
       "      <td>0</td>\n",
       "      <td>0</td>\n",
       "      <td>446</td>\n",
       "      <td>604</td>\n",
       "      <td>...</td>\n",
       "      <td>0</td>\n",
       "      <td>1</td>\n",
       "      <td>0</td>\n",
       "      <td>0</td>\n",
       "      <td>0</td>\n",
       "      <td>0</td>\n",
       "      <td>0</td>\n",
       "      <td>1</td>\n",
       "      <td>0</td>\n",
       "      <td>0</td>\n",
       "    </tr>\n",
       "  </tbody>\n",
       "</table>\n",
       "<p>5 rows × 30 columns</p>\n",
       "</div>"
      ],
      "text/plain": [
       "        id  week  center_id  meal_id  checkout_price  base_price  \\\n",
       "0  1379560     1         55     1885          136.83      152.29   \n",
       "1  1044078     1         39     2290          301.73      299.73   \n",
       "2  1272063     1         65     2290          305.58      306.58   \n",
       "3  1364972     1         43     2290          279.39      279.39   \n",
       "4  1363806     1         80     2290          311.43      311.43   \n",
       "\n",
       "   emailer_for_promotion  homepage_featured  num_orders  city_code  ...  \\\n",
       "0                      0                  0         177        647  ...   \n",
       "1                      0                  0         419        526  ...   \n",
       "2                      0                  0         878        602  ...   \n",
       "3                      0                  0         944        590  ...   \n",
       "4                      0                  0         446        604  ...   \n",
       "\n",
       "   C_Pizza  C_Rice Bowl  C_Salad  C_Sandwich  C_Seafood  C_Soup  C_Starters  \\\n",
       "0        0            0        0           0          0       0           0   \n",
       "1        0            1        0           0          0       0           0   \n",
       "2        0            1        0           0          0       0           0   \n",
       "3        0            1        0           0          0       0           0   \n",
       "4        0            1        0           0          0       0           0   \n",
       "\n",
       "   C_Indian  C_Italian  C_Thai  \n",
       "0         0          0       1  \n",
       "1         1          0       0  \n",
       "2         1          0       0  \n",
       "3         1          0       0  \n",
       "4         1          0       0  \n",
       "\n",
       "[5 rows x 30 columns]"
      ]
     },
     "execution_count": 70,
     "metadata": {},
     "output_type": "execute_result"
    }
   ],
   "source": [
    "# Creating dummy features\n",
    "food_orders_c=pd.get_dummies(food_orders,columns=cat_features,drop_first=True,dtype=int, prefix='C')\n",
    "food_orders_c.head()"
   ]
  },
  {
   "cell_type": "code",
   "execution_count": 61,
   "id": "f456a0c9",
   "metadata": {},
   "outputs": [
    {
     "name": "stdout",
     "output_type": "stream",
     "text": [
      "<class 'pandas.core.frame.DataFrame'>\n",
      "RangeIndex: 423727 entries, 0 to 423726\n",
      "Data columns (total 30 columns):\n",
      " #   Column                 Non-Null Count   Dtype  \n",
      "---  ------                 --------------   -----  \n",
      " 0   id                     423727 non-null  int64  \n",
      " 1   week                   423727 non-null  int64  \n",
      " 2   center_id              423727 non-null  int64  \n",
      " 3   meal_id                423727 non-null  int64  \n",
      " 4   checkout_price         423727 non-null  float64\n",
      " 5   base_price             423727 non-null  float64\n",
      " 6   emailer_for_promotion  423727 non-null  int64  \n",
      " 7   homepage_featured      423727 non-null  int64  \n",
      " 8   num_orders             423727 non-null  int64  \n",
      " 9   city_code              423727 non-null  int64  \n",
      " 10  region_code            423727 non-null  int64  \n",
      " 11  op_area                423727 non-null  float64\n",
      " 12  C_TYPE_B               423727 non-null  int64  \n",
      " 13  C_TYPE_C               423727 non-null  int64  \n",
      " 14  C_Biryani              423727 non-null  int64  \n",
      " 15  C_Desert               423727 non-null  int64  \n",
      " 16  C_Extras               423727 non-null  int64  \n",
      " 17  C_Fish                 423727 non-null  int64  \n",
      " 18  C_Other Snacks         423727 non-null  int64  \n",
      " 19  C_Pasta                423727 non-null  int64  \n",
      " 20  C_Pizza                423727 non-null  int64  \n",
      " 21  C_Rice Bowl            423727 non-null  int64  \n",
      " 22  C_Salad                423727 non-null  int64  \n",
      " 23  C_Sandwich             423727 non-null  int64  \n",
      " 24  C_Seafood              423727 non-null  int64  \n",
      " 25  C_Soup                 423727 non-null  int64  \n",
      " 26  C_Starters             423727 non-null  int64  \n",
      " 27  C_Indian               423727 non-null  int64  \n",
      " 28  C_Italian              423727 non-null  int64  \n",
      " 29  C_Thai                 423727 non-null  int64  \n",
      "dtypes: float64(3), int64(27)\n",
      "memory usage: 97.0 MB\n"
     ]
    }
   ],
   "source": [
    "food_orders_c.info()"
   ]
  },
  {
   "cell_type": "code",
   "execution_count": 62,
   "id": "fbf05aef",
   "metadata": {},
   "outputs": [
    {
     "data": {
      "text/plain": [
       "(423727, 30)"
      ]
     },
     "execution_count": 62,
     "metadata": {},
     "output_type": "execute_result"
    }
   ],
   "source": [
    "food_orders_c.shape"
   ]
  },
  {
   "cell_type": "markdown",
   "id": "596b9507",
   "metadata": {},
   "source": [
    "### 4-Standardize the magnitude of numeric features"
   ]
  },
  {
   "cell_type": "code",
   "execution_count": 71,
   "id": "f07e7129",
   "metadata": {},
   "outputs": [],
   "source": [
    "# Extract features and target variable\n",
    " # Features\n",
    "X = food_orders_c.drop(columns=['num_orders', 'id'])  \n",
    " # Target variable\n",
    "y = food_orders_c['num_orders']  \n",
    "\n",
    "# Standardize numerical features\n",
    "numerical_features = ['checkout_price', 'base_price', 'op_area']\n",
    " # Making a Scaler object\n",
    "scaler = StandardScaler()\n",
    " # Fitting data to the scaler object\n",
    "X[numerical_features] = scaler.fit_transform(X[numerical_features])"
   ]
  },
  {
   "cell_type": "markdown",
   "id": "c7668285",
   "metadata": {},
   "source": [
    "### 5-Train/Test Split"
   ]
  },
  {
   "cell_type": "markdown",
   "id": "ca196e45-d247-4bf1-8203-ce3c7cee4f52",
   "metadata": {},
   "source": [
    "When working with time-series data, the sequential order of data points holds significance. Unlike traditional machine learning models, where a random train-test split is common, time-series data requires a sequential split to maintain the temporal order of observations. This consideration arises from the inherent dependence of future data points on past ones in time series data. Random splits can potentially lead to using future information to predict past events, which is inappropriate.\n",
    "\n",
    "To address this, we adopt a sequential split for time series, dividing it into training and test sets based on a specified proportion of the data. A custom function is defined to facilitate this, allowing us to choose the percentage of data for the test set while using the remainder for the training set."
   ]
  },
  {
   "cell_type": "code",
   "execution_count": 72,
   "id": "9c63b3e5-8eb9-4f8c-bac4-62c163545c37",
   "metadata": {},
   "outputs": [],
   "source": [
    "#Split the data into testing and training datasets \n",
    "\n",
    "def trian_test_split_T (x,y, testsize=0.3):\n",
    "   \n",
    "    split=int(len(x)*(1-testsize))\n",
    "    X_train=x.iloc[:split]\n",
    "    y_train=(y.to_frame()).iloc[:split]\n",
    "    X_test=x.iloc[split:]\n",
    "    y_test=(y.to_frame()).iloc[split:]\n",
    "    return X_train, X_test, y_train, y_test"
   ]
  },
  {
   "cell_type": "code",
   "execution_count": 73,
   "id": "a493f98b-362d-4473-8cd5-07634b4daf59",
   "metadata": {},
   "outputs": [],
   "source": [
    "X_train, X_test, y_train, y_test=trian_test_split_T (X,y)"
   ]
  },
  {
   "cell_type": "code",
   "execution_count": 74,
   "id": "2c5831e8-459c-4e5c-b08a-5877dcfb0695",
   "metadata": {},
   "outputs": [
    {
     "data": {
      "text/plain": [
       "((296608, 28), (127119, 28))"
      ]
     },
     "execution_count": 74,
     "metadata": {},
     "output_type": "execute_result"
    }
   ],
   "source": [
    "X_train.shape, X_test.shape"
   ]
  },
  {
   "cell_type": "code",
   "execution_count": 75,
   "id": "8caf4ff1",
   "metadata": {},
   "outputs": [
    {
     "data": {
      "text/plain": [
       "((296608, 1), (127119, 1))"
      ]
     },
     "execution_count": 75,
     "metadata": {},
     "output_type": "execute_result"
    }
   ],
   "source": [
    "y_train.shape, y_test.shape"
   ]
  },
  {
   "cell_type": "code",
   "execution_count": 77,
   "id": "9a059f6a",
   "metadata": {},
   "outputs": [
    {
     "name": "stdout",
     "output_type": "stream",
     "text": [
      "A file already exists with this name.\n",
      "\n"
     ]
    },
    {
     "name": "stdin",
     "output_type": "stream",
     "text": [
      "Do you want to overwrite? (Y/N) y\n"
     ]
    },
    {
     "name": "stdout",
     "output_type": "stream",
     "text": [
      "Writing file.  \"../data/food_data_merged_c.csv\"\n",
      "A file already exists with this name.\n",
      "\n"
     ]
    },
    {
     "name": "stdin",
     "output_type": "stream",
     "text": [
      "Do you want to overwrite? (Y/N) y\n"
     ]
    },
    {
     "name": "stdout",
     "output_type": "stream",
     "text": [
      "Writing file.  \"../data/X_train.csv\"\n",
      "A file already exists with this name.\n",
      "\n"
     ]
    },
    {
     "name": "stdin",
     "output_type": "stream",
     "text": [
      "Do you want to overwrite? (Y/N) y\n"
     ]
    },
    {
     "name": "stdout",
     "output_type": "stream",
     "text": [
      "Writing file.  \"../data/X_test.csv\"\n",
      "A file already exists with this name.\n",
      "\n"
     ]
    },
    {
     "name": "stdin",
     "output_type": "stream",
     "text": [
      "Do you want to overwrite? (Y/N) y\n"
     ]
    },
    {
     "name": "stdout",
     "output_type": "stream",
     "text": [
      "Writing file.  \"../data/y_train.csv\"\n",
      "A file already exists with this name.\n",
      "\n"
     ]
    },
    {
     "name": "stdin",
     "output_type": "stream",
     "text": [
      "Do you want to overwrite? (Y/N) y\n"
     ]
    },
    {
     "name": "stdout",
     "output_type": "stream",
     "text": [
      "Writing file.  \"../data/y_test.csv\"\n"
     ]
    }
   ],
   "source": [
    "# save the model\n",
    "\n",
    "path = '../data'\n",
    "save_file(food_orders_c, 'food_data_merged_c.csv', path)\n",
    "save_file(X_train, 'X_train.csv', path)\n",
    "save_file(X_test, 'X_test.csv', path)\n",
    "save_file(y_train, 'y_train.csv', path)\n",
    "save_file(y_test, 'y_test.csv', path)"
   ]
  },
  {
   "cell_type": "markdown",
   "id": "a1bbcb82",
   "metadata": {},
   "source": [
    "### Summary\n",
    "\n",
    "The categorical features have been identified, and dummy features were generated to enable their utilization in machine learning models. \n",
    "\n",
    "Furthermore, the numeric features ('checkout_price', 'base_price', 'op_area') underwent standardization. \n",
    "\n",
    "Additionally, in order to assess model performance effectively, the dataset was divided into training and testing sets."
   ]
  },
  {
   "cell_type": "code",
   "execution_count": null,
   "id": "e41df08d",
   "metadata": {},
   "outputs": [],
   "source": []
  }
 ],
 "metadata": {
  "kernelspec": {
   "display_name": "Python 3 (ipykernel)",
   "language": "python",
   "name": "python3"
  },
  "language_info": {
   "codemirror_mode": {
    "name": "ipython",
    "version": 3
   },
   "file_extension": ".py",
   "mimetype": "text/x-python",
   "name": "python",
   "nbconvert_exporter": "python",
   "pygments_lexer": "ipython3",
   "version": "3.9.12"
  }
 },
 "nbformat": 4,
 "nbformat_minor": 5
}
